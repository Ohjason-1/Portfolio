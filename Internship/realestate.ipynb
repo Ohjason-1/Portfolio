{
 "cells": [
  {
   "cell_type": "code",
   "execution_count": 3,
   "metadata": {},
   "outputs": [
    {
     "ename": "ModuleNotFoundError",
     "evalue": "No module named 'streamlit'",
     "output_type": "error",
     "traceback": [
      "\u001b[0;31m---------------------------------------------------------------------------\u001b[0m",
      "\u001b[0;31mModuleNotFoundError\u001b[0m                       Traceback (most recent call last)",
      "Cell \u001b[0;32mIn[3], line 1\u001b[0m\n\u001b[0;32m----> 1\u001b[0m \u001b[38;5;28;01mimport\u001b[39;00m\u001b[38;5;250m \u001b[39m\u001b[38;5;21;01mstreamlit\u001b[39;00m\u001b[38;5;250m \u001b[39m\u001b[38;5;28;01mas\u001b[39;00m\u001b[38;5;250m \u001b[39m\u001b[38;5;21;01mst\u001b[39;00m\n\u001b[1;32m      2\u001b[0m \u001b[38;5;28;01mimport\u001b[39;00m\u001b[38;5;250m \u001b[39m\u001b[38;5;21;01mrequests\u001b[39;00m\n\u001b[1;32m      3\u001b[0m \u001b[38;5;28;01mimport\u001b[39;00m\u001b[38;5;250m \u001b[39m\u001b[38;5;21;01mpandas\u001b[39;00m\u001b[38;5;250m \u001b[39m\u001b[38;5;28;01mas\u001b[39;00m\u001b[38;5;250m \u001b[39m\u001b[38;5;21;01mpd\u001b[39;00m\n",
      "\u001b[0;31mModuleNotFoundError\u001b[0m: No module named 'streamlit'"
     ]
    }
   ],
   "source": [
    "import streamlit as st\n",
    "import requests\n",
    "import pandas as pd\n",
    "\n",
    "# Streamlit page setup\n",
    "st.set_page_config(page_title=\"Real Estate Listings Viewer\", layout=\"wide\")\n",
    "st.title(\"Real Estate Listings from Pages 1 to 10\")\n",
    "st.markdown(\"This page fetches and displays real estate listings from pages 1 to 10 using the Naver Real Estate API.\")\n",
    "\n",
    "# Define the cookies and headers as provided\n",
    "cookies = {}\n",
    "headers = {}\n",
    "\n",
    "# Function to get data from the API for pages 1 to 10\n",
    "@st.cache_data\n",
    "def fetch_all_data():\n",
    "    all_articles = []\n",
    "    for page in range(1, 11):\n",
    "        try:\n",
    "            # Make the request for the specific page\n",
    "            url = f'https://new.land.naver.com/api/articles/complex/111515?realEstateType=APT%3AABYG%3AJGC%3APRE&tradeType=A1&tag=%3A%3A%3A%3A%3A%3A%3A%3A&rentPriceMin=0&rentPriceMax=900000000&priceMin=0&priceMax=900000000&areaMin=0&areaMax=900000000&oldBuildYears&recentlyBuildYears&minHouseHoldCount=300&maxHouseHoldCount&showArticle=false&sameAddressGroup=true&minMaintenanceCost&maxMaintenanceCost&priceType=RETAIL&directions=&page={page}&complexNo=111515&buildingNos=&areaNos=&type=list&order=prc'\n",
    "            response = requests.get(url, cookies=cookies, headers=headers)\n",
    "\n",
    "            # Verify response is valid JSON\n",
    "            if response.status_code == 200:\n",
    "                data = response.json()\n",
    "                articles = data.get(\"articleList\", [])\n",
    "                all_articles.extend(articles)\n",
    "            else:\n",
    "                st.warning(f\"Failed to retrieve data for page {page}. Status code: {response.status_code}\")\n",
    "        except requests.exceptions.RequestException as e:\n",
    "            st.error(f\"An error occurred: {e}\")\n",
    "        except ValueError:\n",
    "            st.error(f\"Non-JSON response for page {page}.\")\n",
    "\n",
    "    return all_articles\n",
    "\n",
    "# Fetch data for all pages\n",
    "data = fetch_all_data()\n",
    "\n",
    "# Transform data into a DataFrame if data is available\n",
    "if data:\n",
    "    df = pd.DataFrame(data)\n",
    "    # Select columns to display\n",
    "    df_display = df[[\"articleNo\", \"articleName\", \"realEstateTypeName\", \"tradeTypeName\", \"floorInfo\",\n",
    "                     \"dealOrWarrantPrc\", \"areaName\", \"direction\", \"articleConfirmYmd\", \"articleFeatureDesc\",\n",
    "                     \"tagList\", \"buildingName\", \"sameAddrMaxPrc\", \"sameAddrMinPrc\", \"realtorName\"]]\n",
    "\n",
    "    # Display the table in Streamlit with a clean, readable layout\n",
    "    st.write(\"### Real Estate Listings - Pages 1 to 10\")\n",
    "    st.dataframe(df_display)\n",
    "else:\n",
    "    st.write(\"No data available.\")\n"
   ]
  },
  {
   "cell_type": "code",
   "execution_count": null,
   "metadata": {},
   "outputs": [],
   "source": []
  }
 ],
 "metadata": {
  "kernelspec": {
   "display_name": "Python 3",
   "language": "python",
   "name": "python3"
  },
  "language_info": {
   "codemirror_mode": {
    "name": "ipython",
    "version": 3
   },
   "file_extension": ".py",
   "mimetype": "text/x-python",
   "name": "python",
   "nbconvert_exporter": "python",
   "pygments_lexer": "ipython3",
   "version": "3.12.5"
  }
 },
 "nbformat": 4,
 "nbformat_minor": 2
}
